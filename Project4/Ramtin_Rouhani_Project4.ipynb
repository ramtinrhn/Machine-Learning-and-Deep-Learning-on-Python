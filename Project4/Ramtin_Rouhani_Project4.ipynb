{
  "nbformat": 4,
  "nbformat_minor": 0,
  "metadata": {
    "colab": {
      "provenance": [],
      "gpuType": "T4"
    },
    "kernelspec": {
      "name": "python3",
      "display_name": "Python 3"
    },
    "language_info": {
      "name": "python"
    },
    "accelerator": "GPU"
  },
  "cells": [
    {
      "cell_type": "markdown",
      "source": [
        "# Optimizing CNNs for Handwritten Character Recognition on EMNIST with W&B Hyperparameter Sweeps\n",
        "\n",
        "**Abstract:**  \n",
        "This notebook demonstrates a complete deep learning workflow for classifying handwritten characters using the EMNIST Balanced dataset. We define a configurable CNN in PyTorch, train a baseline model, perform automated hyperparameter optimization with W&B, and compare results using accuracy, loss curves, and confusion matrices."
      ],
      "metadata": {
        "id": "WCMvGO9CYzZP"
      }
    },
    {
      "cell_type": "code",
      "execution_count": 1,
      "metadata": {
        "colab": {
          "base_uri": "https://localhost:8080/"
        },
        "id": "sSzwteqeYvuh",
        "outputId": "88cbe408-58db-400d-ee30-1a0885f136a9"
      },
      "outputs": [
        {
          "output_type": "stream",
          "name": "stdout",
          "text": [
            "Using cuda device\n"
          ]
        }
      ],
      "source": [
        "# Imports\n",
        "import torch\n",
        "import torch.nn as nn\n",
        "import torch.optim as optim\n",
        "from torchvision import transforms\n",
        "from torchvision.datasets import EMNIST\n",
        "from torch.utils.data import DataLoader, random_split\n",
        "from sklearn.metrics import confusion_matrix, ConfusionMatrixDisplay\n",
        "import numpy as np\n",
        "from tqdm import trange\n",
        "import matplotlib.pyplot as plt\n",
        "import wandb\n",
        "\n",
        "# Device selection\n",
        "device = \"cuda\" if torch.cuda.is_available() else \"mps\" if torch.backends.mps.is_available() else \"cpu\"\n",
        "print(f\"Using {device} device\")"
      ]
    },
    {
      "cell_type": "markdown",
      "source": [
        "## Data Preparation\n",
        "\n",
        "We use the EMNIST Balanced dataset (digits + letters).  \n",
        "Steps:\n",
        "- Convert images to tensors and normalize to [-1, 1]\n",
        "- Split training set into train (80%) and validation (20%)\n",
        "- Test set remains separate for evaluation\n"
      ],
      "metadata": {
        "id": "UMe7ZpmpY8eM"
      }
    },
    {
      "cell_type": "code",
      "source": [
        "# Transform pipeline\n",
        "transform = transforms.Compose([\n",
        "    transforms.ToTensor(),\n",
        "    transforms.Normalize((0.5,), (0.5,))\n",
        "])\n",
        "\n",
        "# Load EMNIST dataset\n",
        "train_dataset = EMNIST(root='./data', split='balanced', train=True, download=True, transform=transform)\n",
        "test_dataset = EMNIST(root='./data', split='balanced', train=False, download=True, transform=transform)\n",
        "\n",
        "# Train / validation split\n",
        "train_size = int(0.8 * len(train_dataset))\n",
        "val_size = len(train_dataset) - train_size\n",
        "train_subset, val_subset = random_split(train_dataset, [train_size, val_size])\n",
        "\n",
        "# Class labels\n",
        "classes = train_dataset.classes\n",
        "print(f\"Classes: {classes}\")\n"
      ],
      "metadata": {
        "colab": {
          "base_uri": "https://localhost:8080/"
        },
        "id": "FbyJl2MIY_qW",
        "outputId": "f215793c-97f2-4b47-8229-e4ffe136c7f6"
      },
      "execution_count": 2,
      "outputs": [
        {
          "output_type": "stream",
          "name": "stderr",
          "text": [
            "100%|██████████| 562M/562M [00:04<00:00, 120MB/s]\n"
          ]
        },
        {
          "output_type": "stream",
          "name": "stdout",
          "text": [
            "Classes: ['0', '1', '2', '3', '4', '5', '6', '7', '8', '9', 'A', 'B', 'C', 'D', 'E', 'F', 'G', 'H', 'I', 'J', 'K', 'L', 'M', 'N', 'O', 'P', 'Q', 'R', 'S', 'T', 'U', 'V', 'W', 'X', 'Y', 'Z', 'a', 'b', 'd', 'e', 'f', 'g', 'h', 'n', 'q', 'r', 't']\n"
          ]
        }
      ]
    },
    {
      "cell_type": "markdown",
      "source": [
        "## Visualization Utilities\n",
        "\n",
        "- `show_samples()`: visualizes n sample images with their labels\n",
        "- `plot_confusion_matrix()`: visualizes model predictions across classes\n"
      ],
      "metadata": {
        "id": "WCCz9EtaZCFz"
      }
    },
    {
      "cell_type": "code",
      "source": [
        "def show_samples(dataset, classes, n=6):\n",
        "    fig, axes = plt.subplots(1, n, figsize=(12, 3))\n",
        "    for i in range(n):\n",
        "        img, label = dataset[i]\n",
        "        axes[i].imshow(img.squeeze(), cmap=\"gray\")\n",
        "        axes[i].set_title(classes[label])\n",
        "        axes[i].axis(\"off\")\n",
        "    plt.show()\n",
        "\n",
        "show_samples(train_dataset, classes)\n"
      ],
      "metadata": {
        "colab": {
          "base_uri": "https://localhost:8080/",
          "height": 192
        },
        "id": "XG23WREsZDuE",
        "outputId": "191af454-be86-4413-d877-40d45726a49f"
      },
      "execution_count": 3,
      "outputs": [
        {
          "output_type": "display_data",
          "data": {
            "text/plain": [
              "<Figure size 1200x300 with 6 Axes>"
            ],
            "image/png": "[encoded data removed]"
          },
          "metadata": {}
        }
      ]
    },
    {
      "cell_type": "markdown",
      "source": [
        "## CNN Model\n",
        "\n",
        "Customizable CNN:\n",
        "- Conv blocks: Conv2d → ReLU → MaxPool2d\n",
        "- Automatic shape inference for fully connected layers\n",
        "- FC layers: Linear → ReLU → Dropout → Linear (num_classes)\n",
        "- Hyperparameters: num_filters, kernel_size, num_layers, dropout\n"
      ],
      "metadata": {
        "id": "susTunbwZF0V"
      }
    },
    {
      "cell_type": "code",
      "source": [
        "class CNN(nn.Module):\n",
        "    def __init__(self, num_classes=len(classes), num_filters=32, kernel_size=3, num_layers=2, dropout=0.5):\n",
        "        super(CNN, self).__init__()\n",
        "        layers = []\n",
        "        in_channels = 1\n",
        "        for i in range(num_layers):\n",
        "            layers.append(nn.Conv2d(in_channels, num_filters, kernel_size=kernel_size, padding=1))\n",
        "            layers.append(nn.ReLU())\n",
        "            layers.append(nn.MaxPool2d(2, 2))\n",
        "            in_channels = num_filters\n",
        "        self.conv = nn.Sequential(*layers)\n",
        "\n",
        "        # Automatic flattened size\n",
        "        with torch.no_grad():\n",
        "            dummy_input = torch.zeros(1, 1, 28, 28)\n",
        "            conv_out = self.conv(dummy_input)\n",
        "            conv_out_size = conv_out.numel()\n",
        "\n",
        "        self.fc1 = nn.Linear(conv_out_size, 128)\n",
        "        self.dropout = nn.Dropout(dropout)\n",
        "        self.fc2 = nn.Linear(128, num_classes)\n",
        "\n",
        "    def forward(self, x):\n",
        "        x = self.conv(x)\n",
        "        x = x.view(x.size(0), -1)\n",
        "        x = torch.relu(self.fc1(x))\n",
        "        x = self.dropout(x)\n",
        "        x = self.fc2(x)\n",
        "        return x\n"
      ],
      "metadata": {
        "id": "s7tQzFX6ZGqc"
      },
      "execution_count": 4,
      "outputs": []
    },
    {
      "cell_type": "markdown",
      "source": [
        "## Training & Evaluation Utilities\n",
        "\n",
        "- `train_step()`: trains one epoch\n",
        "- `test_step()`: evaluates model\n",
        "- Returns loss and accuracy (%)\n"
      ],
      "metadata": {
        "id": "87MBXlZ0ZJ1P"
      }
    },
    {
      "cell_type": "code",
      "source": [
        "def train_step(model, criterion, optimizer, dataloader, device=device):\n",
        "    running_loss, correct = 0, 0\n",
        "    model.train()\n",
        "    for x, y in dataloader:\n",
        "        x, y = x.to(device), y.to(device)\n",
        "        optimizer.zero_grad()\n",
        "        pred = model(x)\n",
        "        loss = criterion(pred, y)\n",
        "        loss.backward()\n",
        "        optimizer.step()\n",
        "        running_loss += loss.item()\n",
        "        correct += (pred.argmax(1) == y).type(torch.float).sum().item()\n",
        "    return running_loss / len(dataloader), 100 * correct / len(dataloader.dataset)\n",
        "\n",
        "def test_step(model, criterion, dataloader, device=device):\n",
        "    running_loss, correct = 0, 0\n",
        "    model.eval()\n",
        "    with torch.no_grad():\n",
        "        for x, y in dataloader:\n",
        "            x, y = x.to(device), y.to(device)\n",
        "            pred = model(x)\n",
        "            running_loss += criterion(pred, y).item()\n",
        "            correct += (pred.argmax(1) == y).type(torch.float).sum().item()\n",
        "    return running_loss / len(dataloader), 100 * correct / len(dataloader.dataset)\n",
        "\n",
        "def plot_confusion_matrix(model, dataloader, title=\"Confusion Matrix\"):\n",
        "    y_true, y_pred = [], []\n",
        "    model.eval()\n",
        "    with torch.no_grad():\n",
        "        for x, y in dataloader:\n",
        "            x, y = x.to(device), y.to(device)\n",
        "            preds = model(x)\n",
        "            y_true.extend(y.cpu().numpy())\n",
        "            y_pred.extend(preds.argmax(1).cpu().numpy())\n",
        "    cm = confusion_matrix(y_true, y_pred)\n",
        "    disp = ConfusionMatrixDisplay(confusion_matrix=cm, display_labels=classes)\n",
        "    disp.plot(cmap=plt.cm.Blues, xticks_rotation=\"vertical\")\n",
        "    plt.title(title)\n",
        "    plt.show()\n"
      ],
      "metadata": {
        "id": "mGcyLMZEZLXm"
      },
      "execution_count": 5,
      "outputs": []
    },
    {
      "cell_type": "markdown",
      "source": [
        "## Baseline CNN Training\n",
        "\n",
        "- Model: 2 conv layers, 32 filters, kernel_size=3, dropout=0.5\n",
        "- Optimizer: Adam, lr=0.001\n",
        "- Train for 5 epochs\n",
        "- Batch size: 64\n"
      ],
      "metadata": {
        "id": "U_uwq0KRZM_A"
      }
    },
    {
      "cell_type": "code",
      "source": [
        "baseline_model = CNN().to(device)\n",
        "criterion = nn.CrossEntropyLoss()\n",
        "optimizer = optim.Adam(baseline_model.parameters(), lr=0.001)\n",
        "\n",
        "train_loader = DataLoader(train_subset, batch_size=64, shuffle=True)\n",
        "val_loader = DataLoader(val_subset, batch_size=64, shuffle=False)\n",
        "test_loader = DataLoader(test_dataset, batch_size=64, shuffle=False)\n",
        "\n",
        "baseline_train_losses, baseline_val_losses = [], []\n",
        "baseline_train_accs, baseline_val_accs = [], []\n",
        "\n",
        "for epoch in range(5):\n",
        "    train_loss, train_acc = train_step(baseline_model, criterion, optimizer, train_loader)\n",
        "    val_loss, val_acc = test_step(baseline_model, criterion, val_loader)\n",
        "    baseline_train_losses.append(train_loss)\n",
        "    baseline_val_losses.append(val_loss)\n",
        "    baseline_train_accs.append(train_acc)\n",
        "    baseline_val_accs.append(val_acc)\n",
        "    print(f\"[Baseline] Epoch {epoch+1}: Train Acc={train_acc:.2f}%, Val Acc={val_acc:.2f}%\")\n",
        "\n",
        "baseline_test_loss, baseline_test_acc = test_step(baseline_model, criterion, test_loader)\n",
        "print(f\"Baseline Test Accuracy: {baseline_test_acc:.2f}%\")\n",
        "plot_confusion_matrix(baseline_model, test_loader, title=\"Baseline Confusion Matrix\")\n"
      ],
      "metadata": {
        "colab": {
          "base_uri": "https://localhost:8080/"
        },
        "id": "k_4i8d0SZNrU",
        "outputId": "81ce423c-e1b6-48a6-f8a0-979d5e26848c"
      },
      "execution_count": null,
      "outputs": [
        {
          "output_type": "stream",
          "name": "stdout",
          "text": [
            "[Baseline] Epoch 1: Train Acc=61.19%, Val Acc=81.87%\n",
            "[Baseline] Epoch 2: Train Acc=74.77%, Val Acc=84.09%\n",
            "[Baseline] Epoch 3: Train Acc=77.39%, Val Acc=84.69%\n",
            "[Baseline] Epoch 4: Train Acc=78.87%, Val Acc=85.63%\n",
            "[Baseline] Epoch 5: Train Acc=80.04%, Val Acc=85.82%\n"
          ]
        }
      ]
    }
  ]
}